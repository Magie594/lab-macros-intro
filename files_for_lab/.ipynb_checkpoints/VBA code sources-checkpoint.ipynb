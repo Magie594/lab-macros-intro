{
 "cells": [
  {
   "cell_type": "markdown",
   "id": "cd250cec",
   "metadata": {},
   "source": [
    "the code on VBA is from chat GPT but the original source of the code when you put it on google is:\n",
    "    https://www.goskills.com/Excel/Resources/VBA-code-library"
   ]
  },
  {
   "cell_type": "code",
   "execution_count": 14,
   "id": "8f627685",
   "metadata": {},
   "outputs": [],
   "source": [
    "import openpyxl"
   ]
  },
  {
   "cell_type": "code",
   "execution_count": 15,
   "id": "c0fe1c0b",
   "metadata": {},
   "outputs": [],
   "source": [
    "from openpyxl import load_workbook"
   ]
  },
  {
   "cell_type": "code",
   "execution_count": 16,
   "id": "5983198f",
   "metadata": {},
   "outputs": [],
   "source": [
    "wb = load_workbook('server_data1.xlsm')"
   ]
  },
  {
   "cell_type": "code",
   "execution_count": 17,
   "id": "1b109ec6",
   "metadata": {},
   "outputs": [
    {
     "data": {
      "text/plain": [
       "['Sheet1', 'Sheet2', 'Sheet3', 'sheet4']"
      ]
     },
     "execution_count": 17,
     "metadata": {},
     "output_type": "execute_result"
    }
   ],
   "source": [
    "wb.sheetnames"
   ]
  },
  {
   "cell_type": "code",
   "execution_count": null,
   "id": "70c82198",
   "metadata": {},
   "outputs": [],
   "source": [
    "# VBA code"
   ]
  },
  {
   "cell_type": "code",
   "execution_count": 18,
   "id": "b9b472d5",
   "metadata": {},
   "outputs": [],
   "source": [
    "# Sub Macro1()\n",
    "#    Auto-fit columns D to F\n",
    "#     Columns(\"D:F\").EntireColumn.AutoFit\n",
    "    \n",
    "#     Delete column A\n",
    "#     Columns(\"A:A\").Delete Shift:=xlToLeft\n",
    "    \n",
    "#     Center-align and format headers (assuming headers are in row 1)\n",
    "#     Range(\"A1\").EntireRow.HorizontalAlignment = xlCenter\n",
    "#     Range(\"A1:F1\").Font.Bold = True\n",
    "#     With Range(\"A1:F1\").Interior\n",
    "#         .Pattern = xlSolid\n",
    "#         .ThemeColor = xlThemeColorAccent2\n",
    "#         .TintAndShade = 0\n",
    "#         .PatternTintAndShade = 0\n",
    "#     End With\n",
    "    \n",
    "#      Auto-fit column A\n",
    "#     Columns(\"A:A\").EntireColumn.AutoFit\n",
    "    \n",
    "#      Select cell C6 (you can remove this line if not needed)\n",
    "#     Range(\"C6\").Select\n",
    "# End Sub\n"
   ]
  },
  {
   "cell_type": "code",
   "execution_count": null,
   "id": "dfa6ac1b",
   "metadata": {},
   "outputs": [],
   "source": []
  }
 ],
 "metadata": {
  "kernelspec": {
   "display_name": "Python 3 (ipykernel)",
   "language": "python",
   "name": "python3"
  },
  "language_info": {
   "codemirror_mode": {
    "name": "ipython",
    "version": 3
   },
   "file_extension": ".py",
   "mimetype": "text/x-python",
   "name": "python",
   "nbconvert_exporter": "python",
   "pygments_lexer": "ipython3",
   "version": "3.10.9"
  }
 },
 "nbformat": 4,
 "nbformat_minor": 5
}
